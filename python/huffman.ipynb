{
 "cells": [
  {
   "cell_type": "code",
   "execution_count": 1,
   "metadata": {},
   "outputs": [
    {
     "name": "stdout",
     "output_type": "stream",
     "text": [
      "Encoded Data: \n",
      "Codes: {'n': '', 's': '', 'm': '', 'h': '', 't': '', 'd': '', 'r': '', 'l': '', 'x': '', 'c': '', 'p': '', 'g': '', 'i': '', ' ': '', 'u': '', 'o': '', 'f': '', 'e': '', 'a': ''}\n",
      "Decoded Data: \n"
     ]
    }
   ],
   "source": [
    "import heapq\n",
    "from collections import defaultdict, Counter\n",
    "\n",
    "class Node:\n",
    "    def __init__(self, frequency, symbol, left=None, right=None):\n",
    "        self.frequency = frequency\n",
    "        self.symbol = symbol\n",
    "        self.left = left\n",
    "        self.right = right\n",
    "        self.huff = ''\n",
    "    \n",
    "    def __lt__(self, other):\n",
    "        return self.frequency < other.frequency\n",
    "\n",
    "def build_huffman_tree(data):\n",
    "    frequency = Counter(data)\n",
    "    heap = [Node(freq, symbol) for symbol, freq in frequency.items()]\n",
    "    heapq.heapify(heap)\n",
    "    \n",
    "    while len(heap) > 1:\n",
    "        left = heapq.heappop(heap)\n",
    "        right = heapq.heappop(heap)\n",
    "        newNode = Node(left.frequency + right.frequency, left.symbol + right.symbol, left, right)\n",
    "        heapq.heappush(heap, newNode)\n",
    "    \n",
    "    return heap[0]\n",
    "\n",
    "def huffman_codes(node, val=''):\n",
    "    codes = {}\n",
    "    newVal = val + str(node.huff)\n",
    "    \n",
    "    if node.left:\n",
    "        codes.update(huffman_codes(node.left, newVal))\n",
    "    if node.right:\n",
    "        codes.update(huffman_codes(node.right, newVal))\n",
    "    \n",
    "    if not node.left and not node.right:\n",
    "        codes[node.symbol] = newVal\n",
    "    \n",
    "    return codes\n",
    "\n",
    "def encode(data):\n",
    "    root = build_huffman_tree(data)\n",
    "    codes = huffman_codes(root)\n",
    "    encoded_data = ''.join(codes[symbol] for symbol in data)\n",
    "    return encoded_data, codes\n",
    "\n",
    "def decode(encoded_data, codes):\n",
    "    reverse_codes = {v: k for k, v in codes.items()}\n",
    "    current_code = \"\"\n",
    "    decoded_output = []\n",
    "\n",
    "    for bit in encoded_data:\n",
    "        current_code += bit\n",
    "        if current_code in reverse_codes:\n",
    "            character = reverse_codes[current_code]\n",
    "            decoded_output.append(character)\n",
    "            current_code = \"\"\n",
    "\n",
    "    return ''.join(decoded_output)\n",
    "\n",
    "# Ejemplo de uso\n",
    "data = \"this is an example for huffman encoding\"\n",
    "encoded_data, codes = encode(data)\n",
    "print(\"Encoded Data:\", encoded_data)\n",
    "print(\"Codes:\", codes)\n",
    "decoded_data = decode(encoded_data, codes)\n",
    "print(\"Decoded Data:\", decoded_data)\n"
   ]
  }
 ],
 "metadata": {
  "kernelspec": {
   "display_name": "Python 3",
   "language": "python",
   "name": "python3"
  },
  "language_info": {
   "codemirror_mode": {
    "name": "ipython",
    "version": 3
   },
   "file_extension": ".py",
   "mimetype": "text/x-python",
   "name": "python",
   "nbconvert_exporter": "python",
   "pygments_lexer": "ipython3",
   "version": "3.11.1"
  }
 },
 "nbformat": 4,
 "nbformat_minor": 2
}
